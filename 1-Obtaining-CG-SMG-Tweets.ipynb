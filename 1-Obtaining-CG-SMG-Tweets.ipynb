{
 "cells": [
  {
   "cell_type": "markdown",
   "metadata": {},
   "source": [
    "# Obtaining CG & SMG Tweets"
   ]
  },
  {
   "cell_type": "markdown",
   "metadata": {},
   "source": [
    "## 1. Searching by keyword"
   ]
  },
  {
   "cell_type": "code",
   "execution_count": 4,
   "metadata": {},
   "outputs": [
    {
     "name": "stdout",
     "output_type": "stream",
     "text": [
      "Error 1002: No ISO 6391-1 language code\n"
     ]
    }
   ],
   "source": [
    "try:\n",
    "    tso = TwitterSearchOrder()\n",
    "    tso.arguments.update({'tweet_mode':'extended'})\n",
    "    tso.set_include_entities(False)\n",
    "#     tso.set_keywords(['apoel', '-filter:retweets'])\n",
    "    tso.set_keywords(['apoel', '-filter:retweets', '-filter:replies'])\n",
    "#     tso.set_language('el')\n",
    "#     tso.set_locale('cy')\n",
    "#     tso.set_result_type('popular')\n",
    "\n",
    "    ts = TwitterSearch(\n",
    "        consumer_key = 'SCbnEI8itr0p9e7bYiMZGkHaI',\n",
    "        consumer_secret = 'xrWiU7Fwmv2hUwth3vbtXEOyjuEAlI2WGbwtkYEtb5IpzBSA4B',\n",
    "        access_token = '1032285068-9ImnboGg1EHthmKSEgCh4F6k3csuyB5GWGDg355',\n",
    "        access_token_secret = 'e3knnkUvZqkepPDDPwTNXxw39ZhpYdWdguoEqCBQ3UsxO'\n",
    "     )\n",
    "    \n",
    "    save_file = open('./Data/cg_twitter.txt', 'a', encoding='utf-8')\n",
    "    \n",
    "    for tweet in ts.search_tweets_iterable(tso):\n",
    "        print(tweet['full_text'], '\\n')\n",
    "        save_file.write(strip_whitespace(tweet['full_text']))\n",
    "        save_file.write('\\n')\n",
    "\n",
    "    save_file.close()\n",
    "        \n",
    "except BaseException as e:\n",
    "    print(e)\n",
    "    \n",
    "finally:\n",
    "    if not save_file.closed:\n",
    "        save_file.close()"
   ]
  },
  {
   "cell_type": "markdown",
   "metadata": {},
   "source": [
    "## 2. Searching by user"
   ]
  },
  {
   "cell_type": "code",
   "execution_count": null,
   "metadata": {},
   "outputs": [],
   "source": [
    "try:\n",
    "    tuo = TwitterUserOrder('NeinQuarterly')\n",
    "                           \n",
    "    ts = TwitterSearch(\n",
    "        consumer_key = 'SCbnEI8itr0p9e7bYiMZGkHaI',\n",
    "        consumer_secret = 'xrWiU7Fwmv2hUwth3vbtXEOyjuEAlI2WGbwtkYEtb5IpzBSA4B',\n",
    "        access_token = '1032285068-9ImnboGg1EHthmKSEgCh4F6k3csuyB5GWGDg355',\n",
    "        access_token_secret = 'e3knnkUvZqkepPDDPwTNXxw39ZhpYdWdguoEqCBQ3UsxO'\n",
    "     )\n",
    "    \n",
    "    save_file = open('./Data/cg_twitter.txt', 'a', encoding='utf-8')\n",
    "    \n",
    "    for tweet in ts.search_tweets_iterable(tuo):\n",
    "        save_file.write(strip_whitespace(tweet['full_text']))\n",
    "        save_file.write('\\n')\n",
    "        \n",
    "    save_file.close()\n",
    "    \n",
    "except TwitterSearchException as e:\n",
    "    print(e)"
   ]
  }
 ],
 "metadata": {
  "kernelspec": {
   "display_name": "Python 3",
   "language": "python",
   "name": "python3"
  },
  "language_info": {
   "codemirror_mode": {
    "name": "ipython",
    "version": 3
   },
   "file_extension": ".py",
   "mimetype": "text/x-python",
   "name": "python",
   "nbconvert_exporter": "python",
   "pygments_lexer": "ipython3",
   "version": "3.6.4"
  }
 },
 "nbformat": 4,
 "nbformat_minor": 2
}
